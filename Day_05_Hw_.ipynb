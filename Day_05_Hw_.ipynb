{
  "nbformat": 4,
  "nbformat_minor": 0,
  "metadata": {
    "colab": {
      "provenance": [],
      "authorship_tag": "ABX9TyOg4/DSH9JAZPY7kiMY06pI",
      "include_colab_link": true
    },
    "kernelspec": {
      "name": "python3",
      "display_name": "Python 3"
    },
    "language_info": {
      "name": "python"
    }
  },
  "cells": [
    {
      "cell_type": "markdown",
      "metadata": {
        "id": "view-in-github",
        "colab_type": "text"
      },
      "source": [
        "<a href=\"https://colab.research.google.com/github/Nabia-Siddiqui/Nabia-Siddiqui/blob/main/Day_05_Hw_.ipynb\" target=\"_parent\"><img src=\"https://colab.research.google.com/assets/colab-badge.svg\" alt=\"Open In Colab\"/></a>"
      ]
    },
    {
      "cell_type": "markdown",
      "source": [
        "# **Day 05 HW**"
      ],
      "metadata": {
        "id": "gioj0h4R1kT5"
      }
    },
    {
      "cell_type": "markdown",
      "source": [
        "**Q1:** List Manipulation"
      ],
      "metadata": {
        "id": "YoeNVMlu1yZE"
      }
    },
    {
      "cell_type": "code",
      "execution_count": null,
      "metadata": {
        "id": "IFszyhlPdBpd"
      },
      "outputs": [],
      "source": [
        "numbers= ['1','2','3','4','5','6','7','8','9']\n",
        "\n",
        "#adding 10 to the end of this list\n",
        "numbers.append('10')\n",
        "print(numbers)\n",
        "\n",
        "#inserting 0 at the beginning\n",
        "numbers.insert(0,'0')\n",
        "print (numbers)\n",
        "\n",
        "#removing 5 from the list\n",
        "numbers.remove('5')\n",
        "print(numbers)\n",
        "\n",
        "#length of this list\n",
        "print(len(numbers))\n"
      ]
    },
    {
      "cell_type": "markdown",
      "source": [
        " **Q2:** Tuple Swapping"
      ],
      "metadata": {
        "id": "uqzJ_7QW1-lm"
      }
    },
    {
      "cell_type": "code",
      "source": [
        "tuple1 =(10, 20)\n",
        "tuple2 =(30, 40)\n",
        "\n",
        "#swapping values of tuples\n",
        "\n",
        "print('After Swapping:')\n",
        "print('updated tuple1:', tuple2)\n",
        "print('updated tuple2:', tuple1)"
      ],
      "metadata": {
        "id": "6NmrC3vA2GDD"
      },
      "execution_count": null,
      "outputs": []
    },
    {
      "cell_type": "markdown",
      "source": [
        "**Q3:** Set Operations"
      ],
      "metadata": {
        "id": "RtFeb2dG2Uz7"
      }
    },
    {
      "cell_type": "code",
      "source": [
        "set1 = {1,2,3,4,5}\n",
        "set2 = {3,4,5,6,7}\n",
        "\n",
        "#finding the union of both sets\n",
        "union_set = set1 | set2\n",
        "print(union_set)\n",
        "\n",
        "#set intersection\n",
        "intersection_set = set1 & set2\n",
        "print(intersection_set)\n",
        "\n",
        "#finding difference\n",
        "\n",
        "difference = set1 - set2\n",
        "print(difference)\n",
        "\n",
        "#checking subset\n",
        "subset = set1 == set2\n",
        "print(subset)"
      ],
      "metadata": {
        "id": "wY2dYV-32dsG"
      },
      "execution_count": null,
      "outputs": []
    },
    {
      "cell_type": "markdown",
      "source": [
        "**Q4:** Dictionary Manipulation"
      ],
      "metadata": {
        "id": "xenb9jyP2qPc"
      }
    },
    {
      "cell_type": "code",
      "source": [
        "student = {\n",
        "    'name':'John Doe',\n",
        "    'age' :'21',\n",
        "    'major':'physics',\n",
        "    'university': 'xyz University',\n",
        "}\n",
        "\n",
        "#adding a new key-value pair\n",
        "student['email'] = 'john.doe@example.com'\n",
        "print(student)\n",
        "\n",
        "#removing major\n",
        "del student['major']\n",
        "print(student)\n",
        "\n",
        "#updating age\n",
        "Age =[('age','22')]\n",
        "student.update(Age)\n",
        "print(student)\n",
        "\n",
        "#checking existence\n",
        "if 'phone' in student:\n",
        "  print(True)\n",
        "else:\n",
        "  print('Is phone present in Student details ?',False)"
      ],
      "metadata": {
        "id": "gLr2KVdX2z-A"
      },
      "execution_count": null,
      "outputs": []
    }
  ]
}