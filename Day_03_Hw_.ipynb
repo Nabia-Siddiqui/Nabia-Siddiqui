{
  "nbformat": 4,
  "nbformat_minor": 0,
  "metadata": {
    "colab": {
      "provenance": [],
      "authorship_tag": "ABX9TyPAkbaRdJeHVcsAlvuUH5Qq",
      "include_colab_link": true
    },
    "kernelspec": {
      "name": "python3",
      "display_name": "Python 3"
    },
    "language_info": {
      "name": "python"
    }
  },
  "cells": [
    {
      "cell_type": "markdown",
      "metadata": {
        "id": "view-in-github",
        "colab_type": "text"
      },
      "source": [
        "<a href=\"https://colab.research.google.com/github/Nabia-Siddiqui/Nabia-Siddiqui/blob/main/Day_03_Hw_.ipynb\" target=\"_parent\"><img src=\"https://colab.research.google.com/assets/colab-badge.svg\" alt=\"Open In Colab\"/></a>"
      ]
    },
    {
      "cell_type": "markdown",
      "source": [
        "# **Day 03 HW**"
      ],
      "metadata": {
        "id": "QbROibZvYdlV"
      }
    },
    {
      "cell_type": "markdown",
      "source": [
        "**Q1:** Calculate Area"
      ],
      "metadata": {
        "id": "uAo0mUxP0-QB"
      }
    },
    {
      "cell_type": "code",
      "execution_count": null,
      "metadata": {
        "id": "AJkCzKjvLo5c"
      },
      "outputs": [],
      "source": [
        "#Calculating area\n",
        "def calculate_area(length, width):\n",
        "  area = length * width\n",
        "  return area\n",
        "area = calculate_area(5, 3)\n",
        "print(\"Area:\", area)"
      ]
    },
    {
      "cell_type": "markdown",
      "source": [
        "**Q2:** Recursive Stars"
      ],
      "metadata": {
        "id": "C9GCjkenYu5Q"
      }
    },
    {
      "cell_type": "code",
      "source": [
        "def recursive_stars(n, least_max = -1):\n",
        "\n",
        "  if least_max == -1:\n",
        "    least_max = n - 1\n",
        "  print(\"*\"*(n - least_max))\n",
        "  if least_max==0:\n",
        "    pass\n",
        "  elif n != least_max:\n",
        "    least_max-=1\n",
        "    recursive_stars(n,least_max)\n",
        "\n",
        "recursive_stars(8)"
      ],
      "metadata": {
        "id": "wvOaMY4RYcRw"
      },
      "execution_count": null,
      "outputs": []
    }
  ]
}