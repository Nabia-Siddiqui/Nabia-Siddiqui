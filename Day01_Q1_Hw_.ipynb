{
  "nbformat": 4,
  "nbformat_minor": 0,
  "metadata": {
    "colab": {
      "provenance": [],
      "authorship_tag": "ABX9TyNsDoLGos/mzMfYp8thoo/m",
      "include_colab_link": true
    },
    "kernelspec": {
      "name": "python3",
      "display_name": "Python 3"
    },
    "language_info": {
      "name": "python"
    }
  },
  "cells": [
    {
      "cell_type": "markdown",
      "metadata": {
        "id": "view-in-github",
        "colab_type": "text"
      },
      "source": [
        "<a href=\"https://colab.research.google.com/github/Nabia-Siddiqui/Nabia-Siddiqui/blob/main/Day01_Q1_Hw_.ipynb\" target=\"_parent\"><img src=\"https://colab.research.google.com/assets/colab-badge.svg\" alt=\"Open In Colab\"/></a>"
      ]
    },
    {
      "cell_type": "code",
      "execution_count": null,
      "metadata": {
        "id": "qi2LajRP87Jk"
      },
      "outputs": [],
      "source": [
        "num1= float(input(\"Enter first number here:\"))\n",
        "op = input(\"Enter operator + -*/\")\n",
        "num2= float(input(\"Enter second number here:\"))\n",
        "\n",
        "if op == \"+\":\n",
        "  print(num1 + num2)\n",
        "elif op == \"-\":\n",
        "  print(num1 - num2)\n",
        "elif op == \"*\":\n",
        "  print (num1 * num2)\n",
        "elif op ==\"/\":\n",
        "  print (num1/num2)\n",
        "else: print(\"Invalid operator\")"
      ]
    }
  ]
}